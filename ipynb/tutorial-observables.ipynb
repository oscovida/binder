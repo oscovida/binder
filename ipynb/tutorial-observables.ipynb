{
 "cells": [
  {
   "cell_type": "markdown",
   "metadata": {},
   "source": [
    "# Observables\n",
    "\n",
    "We describe a number of observables that are computed by the [`oscovida`](https://pypi.org/project/oscovida/) python package and presented on the [OSCOVIDA](https://oscovida.github.io) webpages.\n",
    "\n",
    "The discussion below refers to one region, such as a country, state or district.\n",
    "\n",
    "The discussion below is focused on cases as a function of time, but the same observables can be computed for deaths as a fuction of time to gain additional insights."
   ]
  },
  {
   "cell_type": "markdown",
   "metadata": {},
   "source": [
    "## Total number of infections\n",
    "\n",
    "$$n(t)$$ \n",
    "\n",
    "Total number $n$ of infections as a function of time $t$. These are all reported infections accumulated up to time $t$. (The number $n(t)$ does not decrease when infected people recover or die, i.e. $n(t)$ does not represent the \"active cases\".) \n",
    "\n",
    "Within OSCOVIDA, time $t$ is dealt in days (i.e. at most one data point associated to a day). Where we have data series, the index is a pandas DateTimeIndex.\n",
    "\n",
    "We take the numbers $n(t)$ of diagnosed cases as reported by the Johns Hopkins University and the Robert Koch Institute. We use the terms 'cases' and 'infections' interchangably for this number.\n",
    "\n"
   ]
  },
  {
   "cell_type": "markdown",
   "metadata": {},
   "source": [
    "## New infections per day"
   ]
  },
  {
   "cell_type": "markdown",
   "metadata": {},
   "source": [
    "\n",
    "The number of new infections  $n_\\mathrm{daily}(t_i)$ for day $t_i$ is computed using\n",
    "\n",
    "$$ n_\\mathrm{daily}({t_i}) = n(t_{i}) - n(t_{i-1}) $$ \n",
    "\n",
    "where $t_i$ is the $i$-th day in the sequence.\n",
    "\n",
    "Example: to compute the daily new infections reported yesterday, we take the total number of infections reported up to yesterday, and substract the total number of infections reported up to the day before yesterday."
   ]
  },
  {
   "cell_type": "markdown",
   "metadata": {},
   "source": [
    "## Growth factor"
   ]
  },
  {
   "cell_type": "markdown",
   "metadata": {},
   "source": [
    "The growth factor $g(t_i)$ is the ratio of new cases on day $t_i$ to the new cases the day before $t_{i-1}$:\n",
    "\n",
    "\n",
    "$$ g(t_i) = \\frac{n_\\mathrm{daily}(t_i)}{n_\\mathrm{daily}(t_{i-1})} $$"
   ]
  },
  {
   "cell_type": "markdown",
   "metadata": {},
   "source": [
    "## Reproduction number"
   ]
  },
  {
   "cell_type": "markdown",
   "metadata": {},
   "source": [
    "We assume a model of exponential growth following\n",
    "$$ n(t) = n_0 R^{t/\\tau} $$\n",
    "where \n",
    "- $n_0$ is the number of initial cases at $t=t_0$\n",
    "- $\\tau$ is the time between successive cases in a chain of transmission (i.e. the time it takes for the infection to spread from one person to the next (serial interval [[1](https://en.wikipedia.org/wiki/Serial_interval)])\n",
    "- $R$ is the reproduction number, which is the average number of infected people cause by one infected person [[2](https://en.wikipedia.org/wiki/Basic_reproduction_number)]"
   ]
  },
  {
   "cell_type": "markdown",
   "metadata": {},
   "source": [
    "## Doubling time"
   ]
  },
  {
   "cell_type": "markdown",
   "metadata": {},
   "source": [
    "The doubling time $T_\\mathrm{double}$ is the time over which some entity $x(t)$ doubles:\n",
    "$$ x(t + T_\\mathrm{double}) = 2 x(t) $$\n",
    "\n",
    "The doubling time $T_\\mathrm{double}$ can be time dependent, but we have omitted this in the equation above for simplicity.\n",
    "\n",
    "To estimate the doubling time of a time series, we assume exponential growth of the time series $x(t)$.\n",
    "\n",
    "In the context of CovSars2, we can look at two different doubling times:\n",
    "\n",
    "1. The doubling time of the *total accumulated* cases $n(t)$. \n",
    "\n",
    "2. The doubling time of the *daily new* cases $n_\\mathrm{daily}$.\n",
    "\n",
    "In the pre-computed plots on the OSCOVIDA site we show the doubling time of the *total accumulated* cases.\n"
   ]
  },
  {
   "cell_type": "markdown",
   "metadata": {},
   "source": [
    "## 7-day incidence "
   ]
  },
  {
   "cell_type": "markdown",
   "metadata": {},
   "source": [
    "The $p$-day incidence $r_p(t_i)$ for day $t_i$ over a period of $p$ previous days is a cumulative number of daily new infections $n_\\mathrm{daily}$ over this period of $p$ days, normalised by the population $N_\\mathrm{population}$ and multiplied by $c$, where $c = 10^5$ is a common choice and what is used in OSCOVIDA: \n",
    "\n",
    "$$ r_p (t_i) =  \\frac{c}{N_\\mathrm{population}} \\sum_{k=1}^{p} n_\\mathrm{daily}(t_{i-k})$$\n",
    "\n",
    "For the 7-day incidence we have\n",
    "$$ r_7 (t_i) =  \\frac{c}{N_\\mathrm{population}} \\sum_{k=1}^{7} n_\\mathrm{daily}(t_{i-k})$$\n",
    "\n",
    "The 7-day incidence number tells us how many new cases have occured in the last week, per 100,000 people. \n",
    "\n",
    "Note that we can calculate this number for any particular region only if we know both $n_\\mathrm{daily}$ and the population of this particular region.\n",
    "\n",
    "We treat the population as a time-independent constant in OSCOVIDA, not taking into account natural fluctuations nor effects of COVID19.\n",
    "\n",
    "We compute incidence rates for two period values: $r_7$ and $r_{14}$. One may also compute this rate for an arbitrary date in the past.\n",
    "\n",
    "Related material: \n",
    "\n",
    "- [countries ordered according to 7-day incidence](countries-incidence-rate.html)\n",
    "- [districts in Germany order according to 7-day incidence](germany-incidence-rate-7day-50cases.html)\n",
    "- [countries ordered according to 14-day incidence](14-day-incidence-rate.html) with example calculation\n",
    "- [districts in Germany order according to 14-day incidence](14-day-incidence-rate.html) with example calculation"
   ]
  },
  {
   "cell_type": "markdown",
   "metadata": {},
   "source": [
    "## Discussion of example data"
   ]
  },
  {
   "cell_type": "markdown",
   "metadata": {},
   "source": [
    "We discuss the observables described above [on this page](plots.html)."
   ]
  }
 ],
 "metadata": {
  "kernelspec": {
   "display_name": "Python 3",
   "language": "python",
   "name": "python3"
  },
  "language_info": {
   "codemirror_mode": {
    "name": "ipython",
    "version": 3
   },
   "file_extension": ".py",
   "mimetype": "text/x-python",
   "name": "python",
   "nbconvert_exporter": "python",
   "pygments_lexer": "ipython3",
   "version": "3.7.6"
  }
 },
 "nbformat": 4,
 "nbformat_minor": 4
}
