{
 "cells": [
  {
   "cell_type": "markdown",
   "metadata": {},
   "source": [
    "# 14-day cumulative number of COVID-19 cases per 100 000"
   ]
  },
  {
   "cell_type": "markdown",
   "metadata": {},
   "source": [
    "At the end of the page, we provide a detailed description of how the numbers are calculated."
   ]
  },
  {
   "cell_type": "markdown",
   "metadata": {},
   "source": [
    "### Compute data"
   ]
  },
  {
   "cell_type": "code",
   "execution_count": null,
   "metadata": {},
   "outputs": [],
   "source": [
    "import datetime as dt\n",
    "import pandas as pd\n",
    "pd.set_option(\"max_rows\", None)\n",
    "from oscovida import fetch_cases, get_population, get_country_data\n",
    "\n",
    "# get a list of all country names\n",
    "countries = fetch_cases().index.drop_duplicates()\n",
    "\n",
    "data = []\n",
    "yesterday = dt.date.today() - dt.timedelta(days=1) \n",
    "\n",
    "for region in countries:\n",
    "    c, _, _ = get_country_data(region)   # get cumulative infections c\n",
    "    if c.index[-1].date() < yesterday:\n",
    "        print(f\"{region}: last data is from {c.index[-1].date()}\")\n",
    "        origin = c.index[0].date()\n",
    "        # Fill data series forward up to yesterday\n",
    "        new_idx = pd.date_range(origin, periods=(yesterday - origin).days, freq='D')\n",
    "        c.reindex(new_idx, method='pad')\n",
    "    c = c[-15:]\n",
    "    try:\n",
    "        population = get_population(region)\n",
    "        new_cases = int(c[-1] - c[-15]) \n",
    "        incidence = new_cases / population * 100000. \n",
    "        data += [(region, population, new_cases, round(incidence, 1))]\n",
    "    except ValueError:\n",
    "        print(f\"Skip {region}\")    # skip regions for which we have no population numbers\n",
    "\n",
    "data.sort(key=lambda x: x[3], reverse=True)\n",
    "\n",
    "# turn into pandas DataFrame for easier display\n",
    "table = pd.DataFrame(data, columns=[\"country\", \"population\", \"new cases\", \"14-day-incidence\"]).set_index(\"country\")\n",
    "\n",
    "# Show last update date\n",
    "import time\n",
    "print(f\"Last updated {time.asctime()}\")"
   ]
  },
  {
   "cell_type": "markdown",
   "metadata": {},
   "source": [
    "## Table for all countries"
   ]
  },
  {
   "cell_type": "code",
   "execution_count": null,
   "metadata": {},
   "outputs": [],
   "source": [
    "table.sort_index()"
   ]
  },
  {
   "cell_type": "markdown",
   "metadata": {},
   "source": [
    "## Table sorted by 14-day-incidence"
   ]
  },
  {
   "cell_type": "code",
   "execution_count": null,
   "metadata": {},
   "outputs": [],
   "source": [
    "table"
   ]
  },
  {
   "cell_type": "markdown",
   "metadata": {},
   "source": [
    "## Tutorial: Detailed calculation for one country"
   ]
  },
  {
   "cell_type": "code",
   "execution_count": null,
   "metadata": {},
   "outputs": [],
   "source": [
    "cases, deaths, label = get_country_data(\"Germany\")"
   ]
  },
  {
   "cell_type": "markdown",
   "metadata": {},
   "source": [
    "Cumulative cases yesterday (numbers for today are not known yet):"
   ]
  },
  {
   "cell_type": "code",
   "execution_count": null,
   "metadata": {},
   "outputs": [],
   "source": [
    "c_y = cases[-1]\n",
    "c_y"
   ]
  },
  {
   "cell_type": "markdown",
   "metadata": {},
   "source": [
    "Cumulative cases 15 days ago (i.e. 14 days before yesterday)"
   ]
  },
  {
   "cell_type": "code",
   "execution_count": null,
   "metadata": {},
   "outputs": [],
   "source": [
    "c_15 = cases[-15]\n",
    "c_15"
   ]
  },
  {
   "cell_type": "markdown",
   "metadata": {},
   "source": [
    "New cases from the last 14 days"
   ]
  },
  {
   "cell_type": "code",
   "execution_count": null,
   "metadata": {},
   "outputs": [],
   "source": [
    "c_new = c_y - c_15 \n",
    "c_new"
   ]
  },
  {
   "cell_type": "markdown",
   "metadata": {},
   "source": [
    "Get the population data"
   ]
  },
  {
   "cell_type": "code",
   "execution_count": null,
   "metadata": {},
   "outputs": [],
   "source": [
    "population = get_population(\"Germany\")\n",
    "population"
   ]
  },
  {
   "cell_type": "markdown",
   "metadata": {},
   "source": [
    "Compute the 14-day incidence per 100000, i.e. the cumulative number of new infections in the last 14 days, normalised by the country's population in units of 100000:"
   ]
  },
  {
   "cell_type": "code",
   "execution_count": null,
   "metadata": {},
   "outputs": [],
   "source": [
    "incidence = c_new / (population/100000)\n",
    "incidence"
   ]
  },
  {
   "cell_type": "markdown",
   "metadata": {},
   "source": [
    "This should compare to the numbers as they are provided for example at https://www.ecdc.europa.eu/en/cases-2019-ncov-eueea (assuming the infection numbers from ECDE and JHU are identical, and we are looking at the same dates)."
   ]
  },
  {
   "cell_type": "markdown",
   "metadata": {},
   "source": [
    "---------------"
   ]
  },
  {
   "cell_type": "code",
   "execution_count": null,
   "metadata": {},
   "outputs": [],
   "source": [
    "# For debugging: When was the data downloaded\n",
    "import oscovida\n",
    "oscovida.fetch_cases_last_execution()"
   ]
  },
  {
   "cell_type": "code",
   "execution_count": null,
   "metadata": {},
   "outputs": [],
   "source": [
    "oscovida.display_binder_link('14-day-incidence.ipynb')"
   ]
  },
  {
   "cell_type": "code",
   "execution_count": null,
   "metadata": {},
   "outputs": [],
   "source": []
  }
 ],
 "metadata": {
  "kernelspec": {
   "display_name": "Python 3",
   "language": "python",
   "name": "python3"
  },
  "language_info": {
   "codemirror_mode": {
    "name": "ipython",
    "version": 3
   },
   "file_extension": ".py",
   "mimetype": "text/x-python",
   "name": "python",
   "nbconvert_exporter": "python",
   "pygments_lexer": "ipython3",
   "version": "3.8.5"
  }
 },
 "nbformat": 4,
 "nbformat_minor": 4
}
