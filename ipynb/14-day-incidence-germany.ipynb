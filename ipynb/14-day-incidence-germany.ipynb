{
 "cells": [
  {
   "cell_type": "markdown",
   "metadata": {},
   "source": [
    "# 14-day cumulative number of COVID-19 cases per 100 000 for districts (Landkreise) in Germany"
   ]
  },
  {
   "cell_type": "markdown",
   "metadata": {},
   "source": [
    "At the end of the page, we provide a detailed description of how the numbers are calculated."
   ]
  },
  {
   "cell_type": "markdown",
   "metadata": {},
   "source": [
    "### Compute data"
   ]
  },
  {
   "cell_type": "code",
   "execution_count": null,
   "metadata": {},
   "outputs": [],
   "source": [
    "import datetime as dt\n",
    "import pandas as pd\n",
    "pd.set_option(\"max_rows\", None)\n",
    "from oscovida import fetch_data_germany, \\\n",
    "    germany_get_population, get_country_data\n",
    "\n",
    "# get districts\n",
    "germany = fetch_data_germany()\n",
    "districts = sorted(germany['Landkreis'].drop_duplicates())"
   ]
  },
  {
   "cell_type": "code",
   "execution_count": null,
   "metadata": {},
   "outputs": [],
   "source": [
    "data = []\n",
    "yesterday = dt.date.today() - dt.timedelta(days=1) \n",
    "\n",
    "for i, district in enumerate(districts):\n",
    "    if i % 100 == 0:\n",
    "        print(f\"Processing {i}/412 ({district})\")\n",
    "    c, _, _ = get_country_data(country=\"Germany\", \n",
    "                               subregion=district) \n",
    "    if c.index[-1].date() < yesterday:\n",
    "        print(f\"{district}: last data is from {c.index[-1].date()}\")\n",
    "        origin = c.index[0].date()\n",
    "        # Fill data series forward up to yesterday\n",
    "        new_idx = pd.date_range(origin, periods=(yesterday - origin).days, freq='D')\n",
    "        c.reindex(new_idx, method='pad')\n",
    "    c = c[-15:]\n",
    "\n",
    "    population = germany_get_population(landkreis=district)\n",
    "    new_cases = int(c[-1] - c[-15]) \n",
    "    incidence = new_cases / population * 100000. \n",
    "    data += [(district, population, new_cases, round(incidence, 1))]\n"
   ]
  },
  {
   "cell_type": "code",
   "execution_count": null,
   "metadata": {},
   "outputs": [],
   "source": [
    "# sort, and ignore SK and LK for sorting\n",
    "data.sort(key=lambda x: x[0].replace(\"SK \", \"\").replace(\"LK \", \"\"))\n",
    "\n",
    "# turn into pandas DataFrame for easier display\n",
    "table = pd.DataFrame(data, \n",
    "                     columns=[\"district\", \"population\", \n",
    "                              \"new cases\", \"14-day-incidence\"]\n",
    "                    ).set_index(\"district\")\n",
    "\n",
    "# Show last update date\n",
    "import time\n",
    "print(f\"Last updated {time.asctime()}\")"
   ]
  },
  {
   "cell_type": "markdown",
   "metadata": {},
   "source": [
    "## Table for all districts (=Landkreise)"
   ]
  },
  {
   "cell_type": "code",
   "execution_count": null,
   "metadata": {},
   "outputs": [],
   "source": [
    "table"
   ]
  },
  {
   "cell_type": "markdown",
   "metadata": {},
   "source": [
    "## Table sorted by 14-day-incidence"
   ]
  },
  {
   "cell_type": "code",
   "execution_count": null,
   "metadata": {},
   "outputs": [],
   "source": [
    "table.sort_values(by=\"14-day-incidence\", ascending=False)"
   ]
  },
  {
   "cell_type": "markdown",
   "metadata": {},
   "source": [
    "## Tutorial: Detailed calculation for one district"
   ]
  },
  {
   "cell_type": "code",
   "execution_count": null,
   "metadata": {},
   "outputs": [],
   "source": [
    "cases, deaths, label = get_country_data(\"Germany\", subregion=\"SK Hamburg\")"
   ]
  },
  {
   "cell_type": "markdown",
   "metadata": {},
   "source": [
    "Cumulative cases yesterday (numbers for today are not known yet):"
   ]
  },
  {
   "cell_type": "code",
   "execution_count": null,
   "metadata": {},
   "outputs": [],
   "source": [
    "c_y = cases[-1]\n",
    "c_y"
   ]
  },
  {
   "cell_type": "markdown",
   "metadata": {},
   "source": [
    "Cumulative cases 15 days ago (i.e. 14 days before yesterday)"
   ]
  },
  {
   "cell_type": "code",
   "execution_count": null,
   "metadata": {},
   "outputs": [],
   "source": [
    "c_15 = cases[-15]\n",
    "c_15"
   ]
  },
  {
   "cell_type": "markdown",
   "metadata": {},
   "source": [
    "New cases from the last 14 days"
   ]
  },
  {
   "cell_type": "code",
   "execution_count": null,
   "metadata": {},
   "outputs": [],
   "source": [
    "c_new = c_y - c_15 \n",
    "c_new"
   ]
  },
  {
   "cell_type": "markdown",
   "metadata": {},
   "source": [
    "Get the population data"
   ]
  },
  {
   "cell_type": "code",
   "execution_count": null,
   "metadata": {},
   "outputs": [],
   "source": [
    "population = germany_get_population(landkreis=\"SK Hamburg\")\n",
    "population"
   ]
  },
  {
   "cell_type": "markdown",
   "metadata": {},
   "source": [
    "Compute the 14-day incidence per 100000, i.e. the cumulative number of new infections in the last 14 days, normalised by the country's population in units of 100000:"
   ]
  },
  {
   "cell_type": "code",
   "execution_count": null,
   "metadata": {},
   "outputs": [],
   "source": [
    "incidence = c_new / (population/100000)\n",
    "incidence"
   ]
  },
  {
   "cell_type": "markdown",
   "metadata": {},
   "source": [
    "---------------"
   ]
  },
  {
   "cell_type": "code",
   "execution_count": null,
   "metadata": {},
   "outputs": [],
   "source": [
    "import oscovida\n",
    "oscovida.display_binder_link('14-day-incidence-germany.ipynb')"
   ]
  },
  {
   "cell_type": "code",
   "execution_count": null,
   "metadata": {},
   "outputs": [],
   "source": []
  }
 ],
 "metadata": {
  "kernelspec": {
   "display_name": "Python 3",
   "language": "python",
   "name": "python3"
  },
  "language_info": {
   "codemirror_mode": {
    "name": "ipython",
    "version": 3
   },
   "file_extension": ".py",
   "mimetype": "text/x-python",
   "name": "python",
   "nbconvert_exporter": "python",
   "pygments_lexer": "ipython3",
   "version": "3.8.5"
  }
 },
 "nbformat": 4,
 "nbformat_minor": 4
}
